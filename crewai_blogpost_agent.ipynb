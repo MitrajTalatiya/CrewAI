{
  "nbformat": 4,
  "nbformat_minor": 0,
  "metadata": {
    "colab": {
      "provenance": [],
      "gpuType": "T4"
    },
    "kernelspec": {
      "name": "python3",
      "display_name": "Python 3"
    },
    "language_info": {
      "name": "python"
    },
    "accelerator": "GPU"
  },
  "cells": [
    {
      "cell_type": "code",
      "execution_count": null,
      "metadata": {
        "id": "zfk_oWRUB9xP"
      },
      "outputs": [],
      "source": [
        "!pip install crewai crewai_tools langchain langchain_community langchain_openai"
      ]
    },
    {
      "cell_type": "code",
      "source": [
        "import os\n",
        "from langchain.chat_models import ChatOpenAI\n",
        "from google.colab import userdata\n",
        "\n",
        "os.environ[\"OPENAI_API_KEY\"] = userdata.get('OPENAI_API_KEY')\n",
        "\n",
        "llm = ChatOpenAI(model=\"gpt-4o-mini\", temperature=0)"
      ],
      "metadata": {
        "id": "GAOll74RCKQv"
      },
      "execution_count": null,
      "outputs": []
    },
    {
      "cell_type": "code",
      "source": [
        "from crewai_tools import WebsiteSearchTool\n",
        "\n",
        "web_search_tool = WebsiteSearchTool()"
      ],
      "metadata": {
        "id": "dndbgfecCM-D"
      },
      "execution_count": null,
      "outputs": []
    },
    {
      "cell_type": "code",
      "source": [
        "from crewai import Agent\n",
        "\n",
        "researcher = Agent(\n",
        "    role = 'Market Research Analyst',\n",
        "    goal = 'Provide up to date market analysis of the AI Industry',\n",
        "    backstory = 'An expert analyst with a keen eye for market trends',\n",
        "    tools=[web_search_tool],\n",
        "    # llm=llm,\n",
        "    verbose=True\n",
        ")"
      ],
      "metadata": {
        "id": "thRWYfxYCwlH"
      },
      "execution_count": null,
      "outputs": []
    },
    {
      "cell_type": "code",
      "source": [
        "writer = Agent(\n",
        "    role = 'Content writer',\n",
        "    goal = 'Craft engaging blog post for AI Industry',\n",
        "    backstory = 'A skilled writer with a passion for technology',\n",
        "    tools=[],\n",
        "    # llm=llm,\n",
        "    verbose=True\n",
        ")"
      ],
      "metadata": {
        "id": "FrUvf-hCF6my"
      },
      "execution_count": null,
      "outputs": []
    },
    {
      "cell_type": "code",
      "source": [
        "from crewai import Task, Crew\n",
        "\n",
        "research = Task(\n",
        "    description = 'Search the web for the latest AI trends and provide a summarized report',\n",
        "    expected_output = 'A summary of the top 3 trending developments in AI with insights on their impact',\n",
        "    agent = researcher\n",
        ")"
      ],
      "metadata": {
        "id": "FFbee8B3GNwr"
      },
      "execution_count": null,
      "outputs": []
    },
    {
      "cell_type": "code",
      "source": [
        "write = Task(\n",
        "    description = \"Write the engaging blog post for the AI industry based on the research analyst's summary\",\n",
        "    expected_output = 'A well structured, 4 paragraph blog-post in markdown format with simple, engaging content.',\n",
        "    agent = writer,\n",
        "    output_file = 'blog-posts/new_post.md'\n",
        ")\n",
        "\n",
        "os.makedirs('blog-posts', exist_ok=True)"
      ],
      "metadata": {
        "id": "Uu8viGy_GqXO"
      },
      "execution_count": null,
      "outputs": []
    },
    {
      "cell_type": "code",
      "source": [
        "crew = Crew (\n",
        "    agents = [researcher, writer],\n",
        "    tasks = [research, write],\n",
        "    verbose = True,\n",
        "    planning = True\n",
        ")\n",
        "\n",
        "crew.kickoff()\n",
        "\n",
        "from google.colab import files\n",
        "files.download('blog-posts/new_post.md')"
      ],
      "metadata": {
        "id": "w9WH6rg-Hb7p"
      },
      "execution_count": null,
      "outputs": []
    },
    {
      "cell_type": "code",
      "source": [],
      "metadata": {
        "id": "lXllTKNmHimP"
      },
      "execution_count": null,
      "outputs": []
    }
  ]
}